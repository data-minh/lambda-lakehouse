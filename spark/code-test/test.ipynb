{
 "cells": [
  {
   "cell_type": "code",
   "execution_count": 1,
   "id": "cc4f9972",
   "metadata": {},
   "outputs": [],
   "source": [
    "import pyspark\n",
    "from pyspark.sql import SparkSession\n",
    "import os\n",
    "from dotenv import load_dotenv\n",
    "from pathlib import Path\n",
    "\n",
    "load_dotenv()\n",
    "\n",
    "NESSIE_URI = os.environ.get(\"NESSIE_URI_TEST\") \n",
    "MINIO_ACCESS_KEY=os.environ.get(\"AWS_ACCESS_KEY_ID_TEST\") \n",
    "MINIO_SECRET_KEY=os.environ.get(\"AWS_SECRET_ACCESS_KEY_TEST\") \n",
    "MINIO_ENDPOINT=os.environ.get(\"AWS_S3_ENDPOINT_TEST\") \n",
    "\n",
    "\n",
    "spark = (\n",
    "    SparkSession.builder\n",
    "        .appName(\"Iceberg-Nessie-rest-catalog\")\n",
    "        # .master(\"local[*]\")\n",
    "        .config(\"spark.driver.host\", \"192.168.1.11\")\n",
    "        # .config(\"spark.driver.host\", \"spark-master\")\n",
    "        .master(\"spark://host.docker.internal:7077\")\n",
    "        .config(\"spark.driver.memory\", \"2g\")\n",
    "        .config(\"spark.driver.cores\", \"1\")\n",
    "        .config(\"spark.executor.instances\", \"1\")\n",
    "        .config(\"spark.executor.cores\", \"2\")\n",
    "        .config(\"spark.executor.memory\", \"2g\")\n",
    "        .config(\"spark.jars.packages\", \",\".join([\n",
    "            \"org.projectnessie.nessie-integrations:nessie-spark-extensions-3.5_2.12:0.103.2\",\n",
    "            \"org.apache.iceberg:iceberg-spark-runtime-3.5_2.12:1.8.1\",\n",
    "            \"org.apache.iceberg:iceberg-aws-bundle:1.8.1\",\n",
    "            ## Minio\n",
    "            \"org.apache.hadoop:hadoop-aws:3.3.4\",\n",
    "            \"com.amazonaws:aws-java-sdk-bundle:1.12.262\"\n",
    "        ]))\n",
    "        .config(\"spark.sql.extensions\", \"org.projectnessie.spark.extensions.NessieSparkSessionExtensions,org.apache.iceberg.spark.extensions.IcebergSparkSessionExtensions\")\n",
    "        .config(\"spark.sql.catalog.nessie\", \"org.apache.iceberg.spark.SparkCatalog\")\n",
    "        .config(\"spark.sql.catalog.nessie.type\", \"rest\")\n",
    "        .config(\"spark.sql.catalog.nessie.uri\", NESSIE_URI)\n",
    "        ## Minio config\n",
    "        .config(\"spark.hadoop.fs.s3a.impl\", \"org.apache.hadoop.fs.s3a.S3AFileSystem\")\n",
    "        .config(\"spark.hadoop.fs.s3a.access.key\", MINIO_ACCESS_KEY)\n",
    "        .config(\"spark.hadoop.fs.s3a.secret.key\", MINIO_SECRET_KEY)\n",
    "        .config(\"spark.hadoop.fs.s3a.endpoint\", MINIO_ENDPOINT)\n",
    "        .config(\"spark.hadoop.fs.s3a.connection.ssl.enabled\", \"false\")\n",
    "        .config(\"spark.hadoop.fs.s3a.path.style.access\", \"true\")\n",
    "        .getOrCreate()\n",
    ")"
   ]
  },
  {
   "cell_type": "markdown",
   "id": "609951d5",
   "metadata": {},
   "source": [
    "## Test iceberg connection"
   ]
  },
  {
   "cell_type": "code",
   "execution_count": 2,
   "id": "1852934d",
   "metadata": {},
   "outputs": [
    {
     "name": "stdout",
     "output_type": "stream",
     "text": [
      "+---------+\n",
      "|namespace|\n",
      "+---------+\n",
      "|     demo|\n",
      "+---------+\n",
      "\n"
     ]
    }
   ],
   "source": [
    "spark.sql(\"SHOW DATABASES IN nessie\").show()"
   ]
  },
  {
   "cell_type": "code",
   "execution_count": 9,
   "id": "bfb120c7",
   "metadata": {},
   "outputs": [
    {
     "name": "stdout",
     "output_type": "stream",
     "text": [
      "++\n",
      "||\n",
      "++\n",
      "++\n",
      "\n"
     ]
    }
   ],
   "source": [
    "spark.sql(\"CREATE DATABASE IF NOT EXISTS nessie.demo\").show()"
   ]
  },
  {
   "cell_type": "code",
   "execution_count": 4,
   "id": "f1d3d31c",
   "metadata": {},
   "outputs": [
    {
     "name": "stdout",
     "output_type": "stream",
     "text": [
      "++\n",
      "||\n",
      "++\n",
      "++\n",
      "\n"
     ]
    }
   ],
   "source": [
    "spark.sql(\n",
    "    \"\"\"\n",
    "    CREATE TABLE IF NOT EXISTS nessie.demo_haha.sample_table (\n",
    "        id BIGINT,\n",
    "        name STRING\n",
    "    ) USING iceberg\n",
    "    \"\"\"\n",
    ").show()"
   ]
  },
  {
   "cell_type": "code",
   "execution_count": 5,
   "id": "19f54ad8",
   "metadata": {},
   "outputs": [
    {
     "name": "stdout",
     "output_type": "stream",
     "text": [
      "++\n",
      "||\n",
      "++\n",
      "++\n",
      "\n"
     ]
    }
   ],
   "source": [
    "spark.sql(\n",
    "    \"\"\"\n",
    "    INSERT INTO nessie.demo_haha.sample_table VALUES\n",
    "    (3, 'Nguuu'),\n",
    "    (4, 'Lonnn')\n",
    "    \"\"\"\n",
    ").show()"
   ]
  },
  {
   "cell_type": "code",
   "execution_count": 6,
   "id": "3ca8e737",
   "metadata": {},
   "outputs": [
    {
     "name": "stdout",
     "output_type": "stream",
     "text": [
      "+---+-----+\n",
      "| id| name|\n",
      "+---+-----+\n",
      "|  3|Nguuu|\n",
      "|  4|Lonnn|\n",
      "|  3|Nguuu|\n",
      "|  4|Lonnn|\n",
      "+---+-----+\n",
      "\n"
     ]
    }
   ],
   "source": [
    "spark.sql(\"SELECT * FROM  nessie.demo_haha.sample_table;\").show()"
   ]
  },
  {
   "cell_type": "markdown",
   "id": "e60e61c0",
   "metadata": {},
   "source": [
    "## Test Minio connection"
   ]
  },
  {
   "cell_type": "code",
   "execution_count": 3,
   "id": "03bb08c1",
   "metadata": {},
   "outputs": [],
   "source": [
    "df = spark.read.csv(\"s3a://lakehouse/raw/vnstock_1d.csv\", header=True, inferSchema=True)"
   ]
  },
  {
   "cell_type": "code",
   "execution_count": 4,
   "id": "153f240b",
   "metadata": {},
   "outputs": [
    {
     "name": "stdout",
     "output_type": "stream",
     "text": [
      "+----------+-----+-----+-----+-----+------+------+\n",
      "|      time| open| high|  low|close|volume|ticker|\n",
      "+----------+-----+-----+-----+-----+------+------+\n",
      "|2025-01-02|39.75|39.75|39.75|39.75|     0|   YTC|\n",
      "|2025-01-03|33.89|33.89|33.89|33.89|   400|   YTC|\n",
      "|2025-01-06|33.89|34.09|33.89|33.99|   502|   YTC|\n",
      "|2025-01-07|33.99|33.99|33.99|33.99|     0|   YTC|\n",
      "|2025-01-08|33.99|33.99|33.99|33.99|     0|   YTC|\n",
      "|2025-01-09|33.99|33.99|33.99|33.99|     0|   YTC|\n",
      "|2025-01-10|33.99|33.99|33.99|33.99|     4|   YTC|\n",
      "|2025-01-13|37.96|37.96|37.96|37.96|   114|   YTC|\n",
      "|2025-01-14| 32.4| 32.4| 32.4| 32.4|   306|   YTC|\n",
      "|2025-01-15| 32.4| 32.4| 32.4| 32.4|    39|   YTC|\n",
      "|2025-01-16| 32.4| 32.4| 32.4| 32.4|   101|   YTC|\n",
      "|2025-01-17| 32.4| 32.4| 32.4| 32.4|     1|   YTC|\n",
      "|2025-01-20| 32.4| 32.4| 32.4| 32.4|     0|   YTC|\n",
      "|2025-01-21| 32.4| 32.4| 32.4| 32.4|     0|   YTC|\n",
      "|2025-01-22| 32.4| 32.4| 32.4| 32.4|     0|   YTC|\n",
      "|2025-01-23|34.78|34.78|34.78|34.78|   111|   YTC|\n",
      "|2025-01-24|34.78|34.78|34.78|34.78|     0|   YTC|\n",
      "|2025-02-03|34.78|34.78|34.78|34.78|    25|   YTC|\n",
      "|2025-02-04|34.78|34.78|34.78|34.78|     7|   YTC|\n",
      "|2025-02-05|34.78|34.78|34.78|34.78|   100|   YTC|\n",
      "+----------+-----+-----+-----+-----+------+------+\n",
      "only showing top 20 rows\n",
      "\n"
     ]
    }
   ],
   "source": [
    "df.show()"
   ]
  },
  {
   "cell_type": "code",
   "execution_count": 5,
   "id": "ff35186b",
   "metadata": {},
   "outputs": [],
   "source": [
    "df.writeTo(\"nessie.demo.vnstock_1d_test\").createOrReplace()"
   ]
  }
 ],
 "metadata": {
  "kernelspec": {
   "display_name": "stock",
   "language": "python",
   "name": "python3"
  },
  "language_info": {
   "codemirror_mode": {
    "name": "ipython",
    "version": 3
   },
   "file_extension": ".py",
   "mimetype": "text/x-python",
   "name": "python",
   "nbconvert_exporter": "python",
   "pygments_lexer": "ipython3",
   "version": "3.11.11"
  }
 },
 "nbformat": 4,
 "nbformat_minor": 5
}
